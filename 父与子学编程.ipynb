{
 "cells": [
  {
   "cell_type": "markdown",
   "metadata": {},
   "source": [
    "### 这是一个注释"
   ]
  },
  {
   "cell_type": "code",
   "execution_count": 2,
   "metadata": {},
   "outputs": [
    {
     "name": "stdout",
     "output_type": "stream",
     "text": [
      "Please input float number=2\n",
      "Please input float number=3\n",
      "Please input number=4\n",
      "a**b*c= 32.0\n"
     ]
    }
   ],
   "source": [
    "a=float(input('Please input float number='))\n",
    "b=float(input('Please input float number='))\n",
    "c=int(input('Please input number='))\n",
    "print('a**b*c=',a**b*c)"
   ]
  },
  {
   "cell_type": "code",
   "execution_count": 4,
   "metadata": {},
   "outputs": [
    {
     "name": "stdout",
     "output_type": "stream",
     "text": [
      "please input number i:9\n",
      "please input number j19\n",
      "9 * 1= 9\n",
      "9 * 2= 18\n",
      "9 * 3= 27\n",
      "9 * 4= 36\n",
      "9 * 5= 45\n",
      "9 * 6= 54\n",
      "9 * 7= 63\n",
      "9 * 8= 72\n",
      "9 * 9= 81\n",
      "9 * 10= 90\n",
      "9 * 11= 99\n",
      "9 * 12= 108\n",
      "9 * 13= 117\n",
      "9 * 14= 126\n",
      "9 * 15= 135\n",
      "9 * 16= 144\n",
      "9 * 17= 153\n",
      "9 * 18= 162\n"
     ]
    }
   ],
   "source": [
    "i=int(input('please input number i:'))       #定义乘数\n",
    "j=int(input('please input number j'))        #定义步长数\n",
    "for a in range(1,j):                               #循环输入的相关数字\n",
    "    print(i,'*',str(a)+'=',i*a)"
   ]
  },
  {
   "cell_type": "markdown",
   "metadata": {},
   "source": [
    "#### 这是一个测试用代码设计\n",
    "b 好好学习"
   ]
  },
  {
   "cell_type": "code",
   "execution_count": 1,
   "metadata": {},
   "outputs": [
    {
     "name": "stdout",
     "output_type": "stream",
     "text": [
      "The Zen of Python, by Tim Peters\n",
      "\n",
      "Beautiful is better than ugly.\n",
      "Explicit is better than implicit.\n",
      "Simple is better than complex.\n",
      "Complex is better than complicated.\n",
      "Flat is better than nested.\n",
      "Sparse is better than dense.\n",
      "Readability counts.\n",
      "Special cases aren't special enough to break the rules.\n",
      "Although practicality beats purity.\n",
      "Errors should never pass silently.\n",
      "Unless explicitly silenced.\n",
      "In the face of ambiguity, refuse the temptation to guess.\n",
      "There should be one-- and preferably only one --obvious way to do it.\n",
      "Although that way may not be obvious at first unless you're Dutch.\n",
      "Now is better than never.\n",
      "Although never is often better than *right* now.\n",
      "If the implementation is hard to explain, it's a bad idea.\n",
      "If the implementation is easy to explain, it may be a good idea.\n",
      "Namespaces are one honking great idea -- let's do more of those!\n"
     ]
    }
   ],
   "source": [
    "import this"
   ]
  },
  {
   "cell_type": "markdown",
   "metadata": {},
   "source": [
    "The Zen of Python, by Tim Peters   //python禅宗  蒂姆.彼特尔 \n",
    "\n",
    "Beautiful is better than ugly.   //漂亮比丑陋好\n",
    "Explicit is better than implicit. //明确的比含蓄的好\n",
    "Simple is better than complex.\n",
    "Complex is better than complicated.\n",
    "Flat is better than nested.\n",
    "Sparse is better than dense.\n",
    "Readability counts.\n",
    "Special cases aren't special enough to break the rules.\n",
    "Although practicality beats purity.\n",
    "Errors should never pass silently.\n",
    "Unless explicitly silenced.\n",
    "In the face of ambiguity, refuse the temptation to guess.\n",
    "There should be one-- and preferably only one --obvious way to do it.\n",
    "Although that way may not be obvious at first unless you're Dutch.\n",
    "Now is better than never.\n",
    "Although never is often better than *right* now.\n",
    "If the implementation is hard to explain, it's a bad idea.\n",
    "If the implementation is easy to explain, it may be a good idea.\n",
    "Namespaces are one honking great idea -- let's do more of those!\n",
    "In [ ]:\n"
   ]
  },
  {
   "cell_type": "code",
   "execution_count": 8,
   "metadata": {},
   "outputs": [],
   "source": [
    "import turtle\n",
    "turtle.pensize(1)\n",
    "turtle.pencolor('blue')\n",
    "turtle.forward(100)\n",
    "turtle.right(91)\n",
    "turtle.forward(100)\n",
    "turtle.right(91)\n",
    "turtle.forward(100)\n",
    "turtle.right(91)\n",
    "turtle.forward(100)\n",
    "turtle.mainloop()"
   ]
  },
  {
   "cell_type": "code",
   "execution_count": null,
   "metadata": {},
   "outputs": [],
   "source": []
  },
  {
   "cell_type": "code",
   "execution_count": null,
   "metadata": {},
   "outputs": [],
   "source": []
  }
 ],
 "metadata": {
  "kernelspec": {
   "display_name": "Python 3",
   "language": "python",
   "name": "python3"
  },
  "language_info": {
   "codemirror_mode": {
    "name": "ipython",
    "version": 3
   },
   "file_extension": ".py",
   "mimetype": "text/x-python",
   "name": "python",
   "nbconvert_exporter": "python",
   "pygments_lexer": "ipython3",
   "version": "3.7.3"
  }
 },
 "nbformat": 4,
 "nbformat_minor": 2
}
